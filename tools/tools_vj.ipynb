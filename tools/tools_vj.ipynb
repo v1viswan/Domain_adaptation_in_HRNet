{
 "cells": [
  {
   "cell_type": "code",
   "execution_count": 2,
   "metadata": {},
   "outputs": [],
   "source": [
    "import cv2\n",
    "from PIL import Image\n",
    "import torchvision.transforms as transforms"
   ]
  },
  {
   "cell_type": "markdown",
   "metadata": {},
   "source": [
    "The below cell is to take a video and convert it to set of images and save them at a approporitate folder"
   ]
  },
  {
   "cell_type": "code",
   "execution_count": 3,
   "metadata": {},
   "outputs": [],
   "source": [
    "video_file = '../../videos_day_in_a_life/driving1.mp4'\n",
    "img_folder = '../domain2_images'\n",
    "prefix = 'driving1'\n",
    "frame_period = 30\n",
    "\n",
    "vidcap = cv2.VideoCapture(video_file)\n",
    "success,image = vidcap.read()\n",
    "count = 0\n",
    "while success:\n",
    "    if count%frame_period == 0:\n",
    "        cv2.imwrite(img_folder + '/' +prefix+ \"frame%d.jpg\" % count, image)     # save frame as JPEG file      \n",
    "    success,image = vidcap.read()\n",
    "    count += 1\n"
   ]
  },
  {
   "cell_type": "code",
   "execution_count": null,
   "metadata": {},
   "outputs": [],
   "source": []
  }
 ],
 "metadata": {
  "kernelspec": {
   "display_name": "Python 3",
   "language": "python",
   "name": "python3"
  },
  "language_info": {
   "codemirror_mode": {
    "name": "ipython",
    "version": 3
   },
   "file_extension": ".py",
   "mimetype": "text/x-python",
   "name": "python",
   "nbconvert_exporter": "python",
   "pygments_lexer": "ipython3",
   "version": "3.6.4"
  }
 },
 "nbformat": 4,
 "nbformat_minor": 2
}
