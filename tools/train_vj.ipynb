{
 "cells": [
  {
   "cell_type": "code",
   "execution_count": 1,
   "metadata": {},
   "outputs": [
    {
     "name": "stderr",
     "output_type": "stream",
     "text": [
      "/opt/conda/lib/python3.6/site-packages/torch/utils/cpp_extension.py:118: UserWarning: \n",
      "\n",
      "                               !! WARNING !!\n",
      "\n",
      "!!!!!!!!!!!!!!!!!!!!!!!!!!!!!!!!!!!!!!!!!!!!!!!!!!!!!!!!!!!!!!!!!!!!!!!!!!!!!!!\n",
      "Your compiler (c++) may be ABI-incompatible with PyTorch!\n",
      "Please use a compiler that is ABI-compatible with GCC 4.9 and above.\n",
      "See https://gcc.gnu.org/onlinedocs/libstdc++/manual/abi.html.\n",
      "\n",
      "See https://gist.github.com/goldsborough/d466f43e8ffc948ff92de7486c5216d6\n",
      "for instructions on how to install GCC 4.9 or higher.\n",
      "!!!!!!!!!!!!!!!!!!!!!!!!!!!!!!!!!!!!!!!!!!!!!!!!!!!!!!!!!!!!!!!!!!!!!!!!!!!!!!!\n",
      "\n",
      "                              !! WARNING !!\n",
      "\n",
      "  warnings.warn(ABI_INCOMPATIBILITY_WARNING.format(compiler))\n",
      "/opt/conda/lib/python3.6/site-packages/torch/utils/cpp_extension.py:118: UserWarning: \n",
      "\n",
      "                               !! WARNING !!\n",
      "\n",
      "!!!!!!!!!!!!!!!!!!!!!!!!!!!!!!!!!!!!!!!!!!!!!!!!!!!!!!!!!!!!!!!!!!!!!!!!!!!!!!!\n",
      "Your compiler (c++) may be ABI-incompatible with PyTorch!\n",
      "Please use a compiler that is ABI-compatible with GCC 4.9 and above.\n",
      "See https://gcc.gnu.org/onlinedocs/libstdc++/manual/abi.html.\n",
      "\n",
      "See https://gist.github.com/goldsborough/d466f43e8ffc948ff92de7486c5216d6\n",
      "for instructions on how to install GCC 4.9 or higher.\n",
      "!!!!!!!!!!!!!!!!!!!!!!!!!!!!!!!!!!!!!!!!!!!!!!!!!!!!!!!!!!!!!!!!!!!!!!!!!!!!!!!\n",
      "\n",
      "                              !! WARNING !!\n",
      "\n",
      "  warnings.warn(ABI_INCOMPATIBILITY_WARNING.format(compiler))\n"
     ]
    }
   ],
   "source": [
    "\n",
    "import argparse\n",
    "import os\n",
    "import pprint\n",
    "import shutil\n",
    "import sys\n",
    "\n",
    "import logging\n",
    "import time\n",
    "import timeit\n",
    "from pathlib import Path\n",
    "\n",
    "import numpy as np\n",
    "\n",
    "import torch\n",
    "import torch.nn as nn\n",
    "import torch.backends.cudnn as cudnn\n",
    "import torch.optim\n",
    "from tensorboardX import SummaryWriter\n",
    "\n",
    "import _init_paths\n",
    "import models\n",
    "import datasets\n",
    "from config import config\n",
    "from config import update_config\n",
    "from core.criterion import CrossEntropy, OhemCrossEntropy\n",
    "from core.function import train, validate\n",
    "from utils.modelsummary import get_model_summary\n",
    "from utils.utils import create_logger, FullModel\n",
    "\n",
    "import pickle\n",
    "import glob\n",
    "from torchvision import transforms\n",
    "import PIL.Image as Image"
   ]
  },
  {
   "cell_type": "code",
   "execution_count": 2,
   "metadata": {},
   "outputs": [],
   "source": [
    "with open('../train_args.pkl', 'rb') as f:\n",
    "       args = pickle.load(f)\n",
    "args.cfg = '../'+args.cfg #changed\n",
    "update_config(config, args)\n"
   ]
  },
  {
   "cell_type": "code",
   "execution_count": 3,
   "metadata": {},
   "outputs": [
    {
     "data": {
      "text/plain": [
       "dict_keys(['BENCHMARK', 'DETERMINISTIC', 'ENABLED'])"
      ]
     },
     "execution_count": 3,
     "metadata": {},
     "output_type": "execute_result"
    }
   ],
   "source": [
    "config.CUDNN.keys()"
   ]
  },
  {
   "cell_type": "code",
   "execution_count": 4,
   "metadata": {
    "scrolled": true
   },
   "outputs": [
    {
     "name": "stderr",
     "output_type": "stream",
     "text": [
      "Namespace(cfg='../experiments/cityscapes/seg_hrnet_w48_train_512x1024_sgd_lr1e-2_wd5e-4_bs_12_epoch484.yaml', opts=[])\n",
      "AUTO_RESUME: False\n",
      "CLASSIFIER_LR: 0.0001\n",
      "CUDNN:\n",
      "  BENCHMARK: True\n",
      "  DETERMINISTIC: False\n",
      "  ENABLED: True\n",
      "DATASET:\n",
      "  DATASET: cityscapes\n",
      "  EXTRA_TRAIN_SET: \n",
      "  NUM_CLASSES: 19\n",
      "  ROOT: data/\n",
      "  TEST_SET: list/cityscapes/val.lst\n",
      "  TRAIN_SET: list/cityscapes/train.lst\n",
      "DEBUG:\n",
      "  DEBUG: False\n",
      "  SAVE_BATCH_IMAGES_GT: False\n",
      "  SAVE_BATCH_IMAGES_PRED: False\n",
      "  SAVE_HEATMAPS_GT: False\n",
      "  SAVE_HEATMAPS_PRED: False\n",
      "DISCRIMINATOR_LR: 0.0001\n",
      "DOMAIN2_FOLDER:  \n",
      "GPUS: (0, 1, 2, 3)\n",
      "LOG_DIR: log\n",
      "LOG_INTERVAL: 50\n",
      "LOSS:\n",
      "  CLASS_BALANCE: False\n",
      "  OHEMKEEP: 131072\n",
      "  OHEMTHRES: 0.9\n",
      "  USE_OHEM: False\n",
      "MODEL:\n",
      "  EXTRA:\n",
      "    FINAL_CONV_KERNEL: 1\n",
      "    STAGE1:\n",
      "      BLOCK: BOTTLENECK\n",
      "      FUSE_METHOD: SUM\n",
      "      NUM_BLOCKS: [4]\n",
      "      NUM_CHANNELS: [64]\n",
      "      NUM_MODULES: 1\n",
      "      NUM_RANCHES: 1\n",
      "    STAGE2:\n",
      "      BLOCK: BASIC\n",
      "      FUSE_METHOD: SUM\n",
      "      NUM_BLOCKS: [4, 4]\n",
      "      NUM_BRANCHES: 2\n",
      "      NUM_CHANNELS: [48, 96]\n",
      "      NUM_MODULES: 1\n",
      "    STAGE3:\n",
      "      BLOCK: BASIC\n",
      "      FUSE_METHOD: SUM\n",
      "      NUM_BLOCKS: [4, 4, 4]\n",
      "      NUM_BRANCHES: 3\n",
      "      NUM_CHANNELS: [48, 96, 192]\n",
      "      NUM_MODULES: 4\n",
      "    STAGE4:\n",
      "      BLOCK: BASIC\n",
      "      FUSE_METHOD: SUM\n",
      "      NUM_BLOCKS: [4, 4, 4, 4]\n",
      "      NUM_BRANCHES: 4\n",
      "      NUM_CHANNELS: [48, 96, 192, 384]\n",
      "      NUM_MODULES: 3\n",
      "  NAME: seg_hrnet\n",
      "  PRETRAINED: pretrained_models/hrnetv2_w48_imagenet_pretrained.pth\n",
      "OUTPUT_DIR: output\n",
      "PIN_MEMORY: True\n",
      "PRINT_FREQ: 100\n",
      "RANK: 0\n",
      "RUNS: 250\n",
      "SAVED_MODELS:\n",
      "  CLASSIFIER:  \n",
      "  DISCRIMINATOR:  \n",
      "SAVE_C_PATH:  \n",
      "SAVE_D_PATH:  \n",
      "TEST:\n",
      "  BASE_SIZE: 2048\n",
      "  BATCH_SIZE_PER_GPU: 4\n",
      "  FLIP_TEST: False\n",
      "  IMAGE_SIZE: [2048, 1024]\n",
      "  MODEL_FILE: \n",
      "  MULTI_SCALE: False\n",
      "  NUM_SAMPLES: 0\n",
      "  SCALE_LIST: [1]\n",
      "TRAIN:\n",
      "  BASE_SIZE: 2048\n",
      "  BATCH_SIZE_PER_GPU: 3\n",
      "  BEGIN_EPOCH: 0\n",
      "  DOWNSAMPLERATE: 1\n",
      "  END_EPOCH: 484\n",
      "  EXTRA_EPOCH: 0\n",
      "  EXTRA_LR: 0.001\n",
      "  FLIP: True\n",
      "  IGNORE_LABEL: 255\n",
      "  IMAGE_SIZE: [1024, 512]\n",
      "  LR: 0.01\n",
      "  LR_FACTOR: 0.1\n",
      "  LR_STEP: [90, 110]\n",
      "  MOMENTUM: 0.9\n",
      "  MULTI_SCALE: True\n",
      "  NESTEROV: False\n",
      "  NUM_SAMPLES: 0\n",
      "  OPTIMIZER: sgd\n",
      "  RESUME: True\n",
      "  SCALE_FACTOR: 16\n",
      "  SHUFFLE: True\n",
      "  WD: 0.0005\n",
      "WORKERS: 4\n"
     ]
    },
    {
     "name": "stdout",
     "output_type": "stream",
     "text": [
      "=> creating output/cityscapes/seg_hrnet_w48_train_512x1024_sgd_lr1e-2_wd5e-4_bs_12_epoch484\n",
      "=> creating log/cityscapes/seg_hrnet/seg_hrnet_w48_train_512x1024_sgd_lr1e-2_wd5e-4_bs_12_epoch484_2020-01-06-20-03\n"
     ]
    }
   ],
   "source": [
    "logger, final_output_dir, tb_log_dir = create_logger(\n",
    "        config, args.cfg, 'train')\n",
    "logger.info(pprint.pformat(args))\n",
    "logger.info(config)\n",
    "writer_dict = {\n",
    "        'writer': SummaryWriter(tb_log_dir),\n",
    "        'train_global_steps': 0,\n",
    "        'valid_global_steps': 0,\n",
    "    }"
   ]
  },
  {
   "cell_type": "code",
   "execution_count": 5,
   "metadata": {},
   "outputs": [
    {
     "data": {
      "text/plain": [
       "'datasets.cityscapes'"
      ]
     },
     "execution_count": 5,
     "metadata": {},
     "output_type": "execute_result"
    }
   ],
   "source": [
    "'datasets.'+config.DATASET.DATASET"
   ]
  },
  {
   "cell_type": "code",
   "execution_count": 6,
   "metadata": {},
   "outputs": [
    {
     "name": "stderr",
     "output_type": "stream",
     "text": [
      "=> init weights from normal distribution\n",
      "/opt/conda/lib/python3.6/site-packages/torch/nn/functional.py:1961: UserWarning: Default upsampling behavior when mode=bilinear is changed to align_corners=False since 0.4.0. Please specify align_corners=True if the old behavior is desired. See the documentation of nn.Upsample for details.\n",
      "  \"See the documentation of nn.Upsample for details.\".format(mode))\n",
      "/opt/conda/lib/python3.6/site-packages/torch/nn/functional.py:1890: UserWarning: nn.functional.upsample is deprecated. Use nn.functional.interpolate instead.\n",
      "  warnings.warn(\"nn.functional.upsample is deprecated. Use nn.functional.interpolate instead.\")\n",
      "\n",
      "Total Parameters: 65,773,843\n",
      "----------------------------------------------------------------------------------------------------------------------------------\n",
      "Total Multiply Adds (For Convolution and Linear Layers only): 43.510986328125 GFLOPs\n",
      "----------------------------------------------------------------------------------------------------------------------------------\n",
      "Number of Layers\n",
      "Conv2d : 307 layers   InPlaceABNSync : 306 layers   ReLU : 269 layers   Bottleneck : 4 layers   BasicBlock : 104 layers   HighResolutionModule : 8 layers   \n"
     ]
    }
   ],
   "source": [
    "cudnn.benchmark = config.CUDNN.BENCHMARK\n",
    "cudnn.deterministic = config.CUDNN.DETERMINISTIC\n",
    "cudnn.enabled = config.CUDNN.ENABLED\n",
    "# gpus = list(config.GPUS)\n",
    "gpus = [0,1] # changed\n",
    "\n",
    "# build model\n",
    "model = eval('models.'+config.MODEL.NAME +\n",
    "             '.get_seg_model')(config)\n",
    "\n",
    "config.TRAIN.IMAGE_SIZE[0] = int(512)\n",
    "config.TRAIN.IMAGE_SIZE[1] = int(256)\n",
    "\n",
    "dump_input = torch.rand(\n",
    "    (1, 3, config.TRAIN.IMAGE_SIZE[1], config.TRAIN.IMAGE_SIZE[0])\n",
    ")\n",
    "logger.info(get_model_summary(model.cuda(), dump_input.cuda()))\n",
    "\n",
    "# copy model file\n",
    "this_dir = os.path.dirname('./') #changed\n",
    "models_dst_dir = os.path.join(final_output_dir, 'models')\n",
    "if os.path.exists(models_dst_dir):\n",
    "    shutil.rmtree(models_dst_dir)\n",
    "shutil.copytree(os.path.join(this_dir, '../lib/models'), models_dst_dir)\n",
    "\n",
    "# prepare data\n",
    "crop_size = (int(config.TRAIN.IMAGE_SIZE[1]), int(config.TRAIN.IMAGE_SIZE[0]))\n",
    "train_dataset = eval('datasets.'+config.DATASET.DATASET)(\n",
    "                    root = '../' + config.DATASET.ROOT, #changed\n",
    "#                     root=config.DATASET.ROOT,\n",
    "                    list_path=config.DATASET.TRAIN_SET,\n",
    "                    num_samples=None,\n",
    "                    num_classes=config.DATASET.NUM_CLASSES,\n",
    "                    multi_scale=config.TRAIN.MULTI_SCALE,\n",
    "                    flip=config.TRAIN.FLIP,\n",
    "                    ignore_label=config.TRAIN.IGNORE_LABEL,\n",
    "                    base_size=config.TRAIN.BASE_SIZE,\n",
    "                    crop_size=crop_size,\n",
    "                    downsample_rate=config.TRAIN.DOWNSAMPLERATE,\n",
    "                    scale_factor=config.TRAIN.SCALE_FACTOR)\n",
    "\n",
    "trainloader = torch.utils.data.DataLoader(\n",
    "    train_dataset,\n",
    "    batch_size=config.TRAIN.BATCH_SIZE_PER_GPU*len(gpus),\n",
    "    shuffle=config.TRAIN.SHUFFLE,\n",
    "    num_workers=0, #config.WORKERS,\n",
    "    pin_memory=True,\n",
    "    drop_last=True)\n",
    "\n",
    "if config.DATASET.EXTRA_TRAIN_SET:\n",
    "    extra_train_dataset = eval('datasets.'+config.DATASET.DATASET)(\n",
    "                root = '../' + config.DATASET.ROOT, #changed\n",
    "#                 root=config.DATASET.ROOT,\n",
    "                list_path=config.DATASET.EXTRA_TRAIN_SET,\n",
    "                num_samples=None,\n",
    "                num_classes=config.DATASET.NUM_CLASSES,\n",
    "                multi_scale=config.TRAIN.MULTI_SCALE,\n",
    "                flip=config.TRAIN.FLIP,\n",
    "                ignore_label=config.TRAIN.IGNORE_LABEL,\n",
    "                base_size=config.TRAIN.BASE_SIZE,\n",
    "                crop_size=crop_size,\n",
    "                downsample_rate=config.TRAIN.DOWNSAMPLERATE,\n",
    "                scale_factor=config.TRAIN.SCALE_FACTOR)\n",
    "\n",
    "    extra_trainloader = torch.utils.data.DataLoader(\n",
    "        extra_train_dataset,\n",
    "        batch_size=config.TRAIN.BATCH_SIZE_PER_GPU*len(gpus),\n",
    "        shuffle=config.TRAIN.SHUFFLE,\n",
    "        num_workers=config.WORKERS,\n",
    "        pin_memory=True,\n",
    "        drop_last=True)\n",
    "\n",
    "test_size = (config.TEST.IMAGE_SIZE[1], config.TEST.IMAGE_SIZE[0])\n",
    "test_dataset = eval('datasets.'+config.DATASET.DATASET)(\n",
    "                    root = '../' + config.DATASET.ROOT, #changed\n",
    "#                     root=config.DATASET.ROOT,\n",
    "                    list_path=config.DATASET.TEST_SET,\n",
    "                    num_samples=config.TEST.NUM_SAMPLES,\n",
    "                    num_classes=config.DATASET.NUM_CLASSES,\n",
    "                    multi_scale=False,\n",
    "                    flip=False,\n",
    "                    ignore_label=config.TRAIN.IGNORE_LABEL,\n",
    "                    base_size=config.TEST.BASE_SIZE,\n",
    "                    crop_size=test_size,\n",
    "                    downsample_rate=1)\n",
    "\n",
    "testloader = torch.utils.data.DataLoader(\n",
    "    test_dataset,\n",
    "    batch_size=config.TEST.BATCH_SIZE_PER_GPU*len(gpus),\n",
    "    shuffle=False,\n",
    "    num_workers=0,#config.WORKERS,\n",
    "    pin_memory=True)"
   ]
  },
  {
   "cell_type": "code",
   "execution_count": 7,
   "metadata": {},
   "outputs": [],
   "source": [
    "#config.TRAIN.LR=0.0001\n",
    "LR = 0.001"
   ]
  },
  {
   "cell_type": "code",
   "execution_count": 8,
   "metadata": {},
   "outputs": [
    {
     "name": "stderr",
     "output_type": "stream",
     "text": [
      "=> init weights from normal distribution\n",
      "/opt/conda/lib/python3.6/site-packages/torch/nn/functional.py:1961: UserWarning: Default upsampling behavior when mode=bilinear is changed to align_corners=False since 0.4.0. Please specify align_corners=True if the old behavior is desired. See the documentation of nn.Upsample for details.\n",
      "  \"See the documentation of nn.Upsample for details.\".format(mode))\n",
      "/opt/conda/lib/python3.6/site-packages/torch/nn/functional.py:1890: UserWarning: nn.functional.upsample is deprecated. Use nn.functional.interpolate instead.\n",
      "  warnings.warn(\"nn.functional.upsample is deprecated. Use nn.functional.interpolate instead.\")\n"
     ]
    }
   ],
   "source": [
    "from models import segnet_vj\n",
    "\n",
    "domain_network = segnet_vj.segnet_domain_adapt(config)\n",
    "domain_network.init_weights(config.MODEL.PRETRAINED)\n",
    "\n",
    "pretrained_dict = torch.load('../hrnet_w48_cityscapes_cls19_1024x2048_ohem_trainvalset.pth')\n",
    "\n",
    "model_dict = domain_network.state_dict()\n",
    "pretrained_dict = {k[6:]: v for k, v in pretrained_dict.items()\n",
    "                    if k[6:] in model_dict.keys()}\n",
    "model_dict.update(pretrained_dict)\n",
    "\n",
    "domain_network.load_state_dict(model_dict)\n",
    "\n",
    "\n",
    "optimizer = torch.optim.SGD([{'params':\n",
    "                  filter(lambda p: p.requires_grad,\n",
    "                         domain_network.parameters()),\n",
    "                  'lr': LR/10}],\n",
    "                lr=LR/10,\n",
    "                momentum=config.TRAIN.MOMENTUM,\n",
    "                weight_decay=config.TRAIN.WD,\n",
    "                nesterov=config.TRAIN.NESTEROV,\n",
    "                )\n",
    "classifier_criterion = CrossEntropy(ignore_label=config.TRAIN.IGNORE_LABEL,\n",
    "                             weight=train_dataset.class_weights)\n",
    "\n",
    "\n",
    "# find output dimension of our model\n",
    "domain_network.eval()\n",
    "domain_network.float()\n",
    "domain_network.cuda()\n",
    "with torch.no_grad():\n",
    "    feat = domain_network.forward_feature(dump_input.cuda())\n",
    "    pred = domain_network.forward_classifier(feat)\n",
    "disc_input_size = feat.shape[1]\n",
    "\n",
    "discriminator = segnet_vj.FCN_discriminator(in_channels=disc_input_size, out_classes=2)\n",
    "\n",
    "# Define discriminator loss\n",
    "disc_criterion = nn.CrossEntropyLoss()\n",
    "\n",
    "disc_optimizer = torch.optim.SGD([{'params':\n",
    "                filter(lambda p: p.requires_grad,\n",
    "                     discriminator.parameters()),\n",
    "                'lr': LR}],\n",
    "                lr=LR,\n",
    "                momentum=config.TRAIN.MOMENTUM,\n",
    "                weight_decay=config.TRAIN.WD,\n",
    "                nesterov=config.TRAIN.NESTEROV,\n",
    "                )\n",
    "full_network = segnet_vj.Full_Adaptation_Model(network = domain_network, loss_classifier=classifier_criterion,\\\n",
    "                            discriminator=discriminator, loss_discriminator=disc_criterion)\n",
    "# full_network.cuda()"
   ]
  },
  {
   "cell_type": "code",
   "execution_count": 9,
   "metadata": {},
   "outputs": [
    {
     "name": "stdout",
     "output_type": "stream",
     "text": [
      "Network loaded from saved models\n"
     ]
    }
   ],
   "source": [
    "try:\n",
    "    full_network.network.load_state_dict(torch.load('../adapt_classification_net_1.pth'))\n",
    "    full_network.discriminator.load_state_dict(torch.load('../adapt_discriminator_net_1.pth'))\n",
    "    print(\"Network loaded from saved models\")\n",
    "except:\n",
    "    print(\"Network loaded from scratch (except classification net)\")\n",
    "\n",
    "full_network_model = nn.DataParallel(full_network, device_ids=gpus).cuda()"
   ]
  },
  {
   "cell_type": "code",
   "execution_count": 10,
   "metadata": {},
   "outputs": [
    {
     "data": {
      "text/plain": [
       "(512, 256)"
      ]
     },
     "execution_count": 10,
     "metadata": {},
     "output_type": "execute_result"
    }
   ],
   "source": [
    "(config.TRAIN.IMAGE_SIZE[0], config.TRAIN.IMAGE_SIZE[1])"
   ]
  },
  {
   "cell_type": "code",
   "execution_count": 11,
   "metadata": {},
   "outputs": [],
   "source": [
    "import glob\n",
    "from PIL import Image\n",
    "import torchvision.transforms as transforms\n",
    "\n",
    "class Image_loader():\n",
    "    def __init__(self, folder_path, img_shape):\n",
    "        \n",
    "        self.folder_path = folder_path\n",
    "        self.img_shape = img_shape\n",
    "        self.file_list = glob.glob(folder_path + \"/*jpg\")\n",
    "        self.trans = transforms.ToTensor()\n",
    "        self.order = np.random.choice([i for i in range(len(self.file_list))], len(self.file_list), replace=False)\n",
    "        self.current_index = 0\n",
    "    def get_images(self,batch_size):\n",
    "        img_list = []\n",
    "        for i in range(batch_size):\n",
    "            img = Image.open(self.file_list[self.order[self.current_index]])\n",
    "            self.current_index = (self.current_index+1)%len(self.file_list)\n",
    "            \n",
    "            img_list.append( self.trans(img.resize(self.img_shape)) )\n",
    "        img_dataset = torch.stack(img_list)\n",
    "        return img_dataset"
   ]
  },
  {
   "cell_type": "code",
   "execution_count": 12,
   "metadata": {},
   "outputs": [],
   "source": [
    "folder_path = '../domain2_images'\n",
    "img_shape = (config.TRAIN.IMAGE_SIZE[0], config.TRAIN.IMAGE_SIZE[1])\n",
    "\n",
    "img_loader = Image_loader(folder_path = '../domain2_images', img_shape=img_shape)"
   ]
  },
  {
   "cell_type": "code",
   "execution_count": 13,
   "metadata": {},
   "outputs": [
    {
     "data": {
      "text/plain": [
       "tensor([[-0.0001,  0.0034, -0.0080],\n",
       "        [ 0.0002,  0.0075,  0.0146],\n",
       "        [ 0.0027, -0.0164,  0.0141]],\n",
       "       device='cuda:0', grad_fn=<SelectBackward>)"
      ]
     },
     "execution_count": 13,
     "metadata": {},
     "output_type": "execute_result"
    }
   ],
   "source": [
    "full_network.network.conv2.weight[5,0]"
   ]
  },
  {
   "cell_type": "code",
   "execution_count": 14,
   "metadata": {},
   "outputs": [
    {
     "data": {
      "text/plain": [
       "FCN_discriminator(\n",
       "  (norm1): BatchNorm2d(720, eps=1e-05, momentum=0.1, affine=True, track_running_stats=True)\n",
       "  (conv1): Conv2d(720, 256, kernel_size=(3, 3), stride=(1, 1), padding=(1, 1))\n",
       "  (conv2): Conv2d(256, 128, kernel_size=(3, 3), stride=(1, 1), padding=(1, 1))\n",
       "  (dropout1): Dropout2d(p=0.25)\n",
       "  (conv3): Conv2d(128, 64, kernel_size=(3, 3), stride=(1, 1), padding=(1, 1))\n",
       "  (conv_op): Conv2d(64, 2, kernel_size=(1, 1), stride=(1, 1))\n",
       ")"
      ]
     },
     "execution_count": 14,
     "metadata": {},
     "output_type": "execute_result"
    }
   ],
   "source": [
    "full_network.network.train()\n",
    "full_network.discriminator.train()"
   ]
  },
  {
   "cell_type": "code",
   "execution_count": 15,
   "metadata": {
    "scrolled": true
   },
   "outputs": [
    {
     "name": "stderr",
     "output_type": "stream",
     "text": [
      "/opt/conda/lib/python3.6/site-packages/torch/nn/functional.py:1961: UserWarning: Default upsampling behavior when mode=bilinear is changed to align_corners=False since 0.4.0. Please specify align_corners=True if the old behavior is desired. See the documentation of nn.Upsample for details.\n",
      "  \"See the documentation of nn.Upsample for details.\".format(mode))\n",
      "/opt/conda/lib/python3.6/site-packages/torch/nn/functional.py:1890: UserWarning: nn.functional.upsample is deprecated. Use nn.functional.interpolate instead.\n",
      "  warnings.warn(\"nn.functional.upsample is deprecated. Use nn.functional.interpolate instead.\")\n",
      "/opt/conda/lib/python3.6/site-packages/torch/nn/parallel/_functions.py:58: UserWarning: Was asked to gather along dimension 0, but all input tensors were scalars; will instead unsqueeze and return a vector.\n",
      "  warnings.warn('Was asked to gather along dimension 0, but all '\n"
     ]
    },
    {
     "name": "stdout",
     "output_type": "stream",
     "text": [
      "final loss: 0.38909125328063965 \n",
      "\n",
      "final loss: 0.2887750267982483 \n",
      "\n",
      "final loss: 0.2844560742378235 \n",
      "\n",
      "final loss: 0.28775301575660706 \n",
      "\n",
      "final loss: 0.37474367022514343 \n",
      "\n",
      "final loss: 0.23774927854537964 \n",
      "\n",
      "final loss: 0.2232499122619629 \n",
      "\n",
      "final loss: 0.30744487047195435 \n",
      "\n",
      "final loss: 0.2909800708293915 \n",
      "\n",
      "final loss: 0.25113558769226074 \n",
      "\n",
      "final loss: 0.2976453900337219 \n",
      "\n",
      "final loss: 0.2863072156906128 \n",
      "\n",
      "final loss: 0.2929839789867401 \n",
      "\n",
      "final loss: 0.352222204208374 \n",
      "\n",
      "final loss: 0.2917228639125824 \n",
      "\n",
      "final loss: 0.2786935567855835 \n",
      "\n",
      "final loss: 0.24487236142158508 \n",
      "\n",
      "final loss: 0.31356969475746155 \n",
      "\n",
      "final loss: 0.24243152141571045 \n",
      "\n",
      "final loss: 0.20225152373313904 \n",
      "\n",
      "final loss: 0.3078168034553528 \n",
      "\n",
      "final loss: 0.24506868422031403 \n",
      "\n",
      "final loss: 0.4652028977870941 \n",
      "\n",
      "final loss: 0.3139920234680176 \n",
      "\n",
      "final loss: 0.29434460401535034 \n",
      "\n",
      "final loss: 0.328088641166687 \n",
      "\n"
     ]
    }
   ],
   "source": [
    "full_network_model.train()\n",
    "for i_iter, batch in enumerate(trainloader, 0):\n",
    "    disc_optimizer.zero_grad()\n",
    "    optimizer.zero_grad()\n",
    "\n",
    "    images, labels, _, _ = batch\n",
    "    d2_images = img_loader.get_images(batch_size=len(images))\n",
    "    label_discriminator = np.zeros([len(images)*2])\n",
    "    label_discriminator[-len(d2_images):] = 1\n",
    "    label_discriminator = torch.from_numpy(label_discriminator)\n",
    "    \n",
    "    loss = full_network_model(input_d1=images, label_d1=labels.cuda().long(), input_d2=d2_images,\\\n",
    "                                    label_discriminator=label_discriminator.cuda().long(), lamda=0.25)\n",
    "    final_loss = torch.mean(loss)\n",
    "    final_loss.backward()\n",
    "    disc_optimizer.step()\n",
    "    optimizer.step()\n",
    "    print(\"final loss:\", final_loss.item(), \"\\n\")\n",
    "    if (i_iter == 25):\n",
    "        break"
   ]
  },
  {
   "cell_type": "code",
   "execution_count": 16,
   "metadata": {},
   "outputs": [
    {
     "data": {
      "text/plain": [
       "tensor([[-0.0001,  0.0034, -0.0080],\n",
       "        [ 0.0002,  0.0075,  0.0146],\n",
       "        [ 0.0026, -0.0164,  0.0141]],\n",
       "       device='cuda:0', grad_fn=<SelectBackward>)"
      ]
     },
     "execution_count": 16,
     "metadata": {},
     "output_type": "execute_result"
    }
   ],
   "source": [
    "full_network.network.conv2.weight[5,0]"
   ]
  },
  {
   "cell_type": "code",
   "execution_count": 26,
   "metadata": {},
   "outputs": [
    {
     "data": {
      "text/plain": [
       "1454.02099609375"
      ]
     },
     "execution_count": 26,
     "metadata": {},
     "output_type": "execute_result"
    }
   ],
   "source": [
    "import torch.cuda as cuda\n",
    "cuda.memory_allocated(0) /(1024*1024)"
   ]
  },
  {
   "cell_type": "markdown",
   "metadata": {},
   "source": [
    "Save the model"
   ]
  },
  {
   "cell_type": "code",
   "execution_count": 23,
   "metadata": {},
   "outputs": [],
   "source": [
    "torch.save(full_network.network.state_dict(), '../adapt_classification_net_1.pth')\n",
    "torch.save(full_network.discriminator.state_dict(), '../adapt_discriminator_net_1.pth')"
   ]
  },
  {
   "cell_type": "markdown",
   "metadata": {},
   "source": [
    "Now have a module which will take a list of image paths and compare the segmentation output from domain adapted network and initial network"
   ]
  },
  {
   "cell_type": "code",
   "execution_count": 18,
   "metadata": {},
   "outputs": [
    {
     "name": "stderr",
     "output_type": "stream",
     "text": [
      "=> init weights from normal distribution\n"
     ]
    },
    {
     "name": "stdout",
     "output_type": "stream",
     "text": [
      "Networks ready\n"
     ]
    }
   ],
   "source": [
    "base_network = segnet_vj.segnet_domain_adapt(config)\n",
    "base_network.init_weights(config.MODEL.PRETRAINED)\n",
    "\n",
    "pretrained_dict = torch.load('../hrnet_w48_cityscapes_cls19_1024x2048_ohem_trainvalset.pth')\n",
    "\n",
    "model_dict = base_network.state_dict()\n",
    "pretrained_dict = {k[6:]: v for k, v in pretrained_dict.items()\n",
    "                    if k[6:] in model_dict.keys()}\n",
    "model_dict.update(pretrained_dict)\n",
    "\n",
    "base_network.load_state_dict(model_dict)\n",
    "\n",
    "adapted_network = full_network.network\n",
    "\n",
    "\n",
    "test_device = 'cuda:0'\n",
    "base_network.to(test_device)\n",
    "adapted_network.to(test_device)\n",
    "\n",
    "base_network.eval()\n",
    "adapted_network.eval()\n",
    "print(\"Networks ready\")"
   ]
  },
  {
   "cell_type": "code",
   "execution_count": 21,
   "metadata": {},
   "outputs": [
    {
     "name": "stderr",
     "output_type": "stream",
     "text": [
      "/opt/conda/lib/python3.6/site-packages/torch/nn/functional.py:1961: UserWarning: Default upsampling behavior when mode=bilinear is changed to align_corners=False since 0.4.0. Please specify align_corners=True if the old behavior is desired. See the documentation of nn.Upsample for details.\n",
      "  \"See the documentation of nn.Upsample for details.\".format(mode))\n",
      "/opt/conda/lib/python3.6/site-packages/torch/nn/functional.py:1890: UserWarning: nn.functional.upsample is deprecated. Use nn.functional.interpolate instead.\n",
      "  warnings.warn(\"nn.functional.upsample is deprecated. Use nn.functional.interpolate instead.\")\n"
     ]
    }
   ],
   "source": [
    "import matplotlib.pyplot as plt\n",
    "\n",
    "img = img_loader.get_images(batch_size=1)\n",
    "img = img.to(test_device)\n",
    "\n",
    "op1 = base_network(img)\n",
    "op2 = adapted_network(img)\n",
    "\n",
    "fig_img1 = op1.detach().cpu().numpy().squeeze().argmax(axis=0)\n",
    "fig_img2 = op2.detach().cpu().numpy().squeeze().argmax(axis=0)\n",
    "\n",
    "# Ensure the color range is always same\n",
    "fig_img1[0,0],fig_img1[0,1] = 0,18\n",
    "fig_img2[0,0],fig_img2[0,1] = 0,18\n",
    "\n",
    "img_trnsfm = transforms.ToPILImage()\n"
   ]
  },
  {
   "cell_type": "code",
   "execution_count": 22,
   "metadata": {},
   "outputs": [
    {
     "data": {
      "image/png": "[encoded data removed]",
      "text/plain": [
       "<matplotlib.figure.Figure at 0x7effac55fb38>"
      ]
     },
     "metadata": {},
     "output_type": "display_data"
    }
   ],
   "source": [
    "plt.figure(figsize=(15,10))\n",
    "plt.subplot(1,3,1)\n",
    "plt.imshow(img_trnsfm(img.detach().cpu()[0]))\n",
    "plt.title(\"Actual Image\")\n",
    "\n",
    "plt.subplot(1,3,2)\n",
    "plt.imshow(fig_img1)\n",
    "plt.title(\"Base network\")\n",
    "\n",
    "plt.subplot(1,3,3)\n",
    "plt.imshow(fig_img2)\n",
    "plt.title(\"Adapted network\")\n",
    "plt.show()"
   ]
  },
  {
   "cell_type": "code",
   "execution_count": 25,
   "metadata": {},
   "outputs": [],
   "source": [
    "# To free memory\n",
    "del op1, op2, base_network"
   ]
  },
  {
   "cell_type": "code",
   "execution_count": null,
   "metadata": {},
   "outputs": [],
   "source": []
  }
 ],
 "metadata": {
  "kernelspec": {
   "display_name": "Python 3",
   "language": "python",
   "name": "python3"
  },
  "language_info": {
   "codemirror_mode": {
    "name": "ipython",
    "version": 3
   },
   "file_extension": ".py",
   "mimetype": "text/x-python",
   "name": "python",
   "nbconvert_exporter": "python",
   "pygments_lexer": "ipython3",
   "version": "3.6.4"
  }
 },
 "nbformat": 4,
 "nbformat_minor": 2
}
